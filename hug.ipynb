{
 "cells": [
  {
   "cell_type": "code",
   "execution_count": 29,
   "metadata": {},
   "outputs": [],
   "source": [
    "import pandas as pd\n",
    "from config import *\n",
    "from neat.checkpoint import Checkpointer\n",
    "from snake import *\n",
    "\n",
    "import pickle\n",
    "import neat"
   ]
  },
  {
   "cell_type": "code",
   "execution_count": 10,
   "metadata": {},
   "outputs": [
    {
     "name": "stdout",
     "output_type": "stream",
     "text": [
      "<neat.population.Population object at 0x11ea85210>\n"
     ]
    }
   ],
   "source": [
    "p = Checkpointer.restore_checkpoint('results/population-9')\n"
   ]
  },
  {
   "cell_type": "code",
   "execution_count": 22,
   "metadata": {},
   "outputs": [],
   "source": [
    "def eval_genomes(genomes, config):\n",
    "    \"\"\"\n",
    "    Iterates through each genome, uses NEAT to create a neural\n",
    "    network from the genome, and then evaluates its fitness using a simulation function.\n",
    "    \n",
    "    Args:\n",
    "    genomes (list of tuples): List of (genome_id, genome) tuples.\n",
    "    config (neat.Config): NEAT configuration settings for network creation.\n",
    "    \"\"\"\n",
    "    best_genome = None\n",
    "    best_fit = -1\n",
    "    for genome_id, genome in genomes:\n",
    "        net = neat.nn.FeedForwardNetwork.create(genome, config) # Create a neural network from the genome.\n",
    "        genome.fitness = simulate_headless(net)  # Simulate the environment without a GUI.\n",
    "\n",
    "        # Update the best genome if the current genome has a higher fitness.\n",
    "        if genome.fitness > best_fit:\n",
    "            best_fit = genome.fitness\n",
    "            best_genome = genome"
   ]
  },
  {
   "cell_type": "code",
   "execution_count": 23,
   "metadata": {},
   "outputs": [
    {
     "name": "stdout",
     "output_type": "stream",
     "text": [
      "Mean genetic distance 2.065, standard deviation 0.315\n"
     ]
    }
   ],
   "source": [
    "stats = neat.StatisticsReporter()\n",
    "p.add_reporter(stats)\n",
    "winner = p.run(eval_genomes, 1)"
   ]
  },
  {
   "cell_type": "code",
   "execution_count": 34,
   "metadata": {},
   "outputs": [],
   "source": [
    "best_genome = stats.best_genome()\n",
    "\n",
    "# Save the best genome to a file.\n",
    "with open('winner-feedforward', 'wb') as f:\n",
    "    pickle.dump(best_genome, f)"
   ]
  }
 ],
 "metadata": {
  "kernelspec": {
   "display_name": "Python 3",
   "language": "python",
   "name": "python3"
  },
  "language_info": {
   "codemirror_mode": {
    "name": "ipython",
    "version": 3
   },
   "file_extension": ".py",
   "mimetype": "text/x-python",
   "name": "python",
   "nbconvert_exporter": "python",
   "pygments_lexer": "ipython3",
   "version": "3.11.8"
  }
 },
 "nbformat": 4,
 "nbformat_minor": 2
}
